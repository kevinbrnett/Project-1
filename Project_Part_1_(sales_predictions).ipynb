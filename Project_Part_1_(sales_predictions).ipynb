{
  "nbformat": 4,
  "nbformat_minor": 0,
  "metadata": {
    "colab": {
      "provenance": [],
      "authorship_tag": "ABX9TyNC173wEw7PsvpY3qUySvvl",
      "include_colab_link": true
    },
    "kernelspec": {
      "name": "python3",
      "display_name": "Python 3"
    },
    "language_info": {
      "name": "python"
    }
  },
  "cells": [
    {
      "cell_type": "markdown",
      "metadata": {
        "id": "view-in-github",
        "colab_type": "text"
      },
      "source": [
        "<a href=\"https://colab.research.google.com/github/kevinbrnett/Project-1/blob/main/Project_Part_1_(sales_predictions).ipynb\" target=\"_parent\"><img src=\"https://colab.research.google.com/assets/colab-badge.svg\" alt=\"Open In Colab\"/></a>"
      ]
    },
    {
      "cell_type": "markdown",
      "source": [
        "# Project 1 - Part 1\n",
        "Kevin Barnett\n",
        "## Loading Data\n",
        "## Data Cleaning\n",
        "## Exploratory Visuals\n",
        "## Explanatory Visuals"
      ],
      "metadata": {
        "id": "uGe-N9mZ5PXe"
      }
    }
  ]
}