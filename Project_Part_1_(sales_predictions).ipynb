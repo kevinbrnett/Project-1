{
  "nbformat": 4,
  "nbformat_minor": 0,
  "metadata": {
    "colab": {
      "provenance": [],
      "authorship_tag": "ABX9TyNciRcx6zdNuOArYEs8zORG",
      "include_colab_link": true
    },
    "kernelspec": {
      "name": "python3",
      "display_name": "Python 3"
    },
    "language_info": {
      "name": "python"
    }
  },
  "cells": [
    {
      "cell_type": "markdown",
      "metadata": {
        "id": "view-in-github",
        "colab_type": "text"
      },
      "source": [
        "<a href=\"https://colab.research.google.com/github/kevinbrnett/Project-1/blob/main/Project_Part_1_(sales_predictions).ipynb\" target=\"_parent\"><img src=\"https://colab.research.google.com/assets/colab-badge.svg\" alt=\"Open In Colab\"/></a>"
      ]
    },
    {
      "cell_type": "markdown",
      "source": [
        "# Project 1 - Part 1\n",
        "Kevin Barnett\n"
      ],
      "metadata": {
        "id": "uGe-N9mZ5PXe"
      }
    },
    {
      "cell_type": "code",
      "source": [],
      "metadata": {
        "id": "pf4QReJtN78_"
      },
      "execution_count": null,
      "outputs": []
    },
    {
      "cell_type": "markdown",
      "source": [
        "## Loading Data\n"
      ],
      "metadata": {
        "id": "P817AK6RN6yI"
      }
    },
    {
      "cell_type": "code",
      "source": [],
      "metadata": {
        "id": "AiBvyg5hNzLm"
      },
      "execution_count": null,
      "outputs": []
    },
    {
      "cell_type": "markdown",
      "source": [
        "## Data Cleaning\n"
      ],
      "metadata": {
        "id": "tGwDJAMpN-Ot"
      }
    },
    {
      "cell_type": "code",
      "source": [],
      "metadata": {
        "id": "dqCOE-4HN_jV"
      },
      "execution_count": null,
      "outputs": []
    },
    {
      "cell_type": "markdown",
      "source": [
        "## Exploratory Visuals\n"
      ],
      "metadata": {
        "id": "sPl9qnAiN_89"
      }
    },
    {
      "cell_type": "code",
      "source": [],
      "metadata": {
        "id": "Q7zQ37GPOA9l"
      },
      "execution_count": null,
      "outputs": []
    },
    {
      "cell_type": "markdown",
      "source": [
        "## Explanatory Visuals"
      ],
      "metadata": {
        "id": "D-7wrah3OBOd"
      }
    },
    {
      "cell_type": "code",
      "source": [],
      "metadata": {
        "id": "cF9L2cyiOBq_"
      },
      "execution_count": null,
      "outputs": []
    }
  ]
}